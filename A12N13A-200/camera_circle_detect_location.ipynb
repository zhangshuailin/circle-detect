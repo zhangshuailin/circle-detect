{
 "cells": [
  {
   "cell_type": "code",
   "execution_count": 30,
   "metadata": {},
   "outputs": [
    {
     "name": "stdout",
     "output_type": "stream",
     "text": [
      "1993 785 163\n",
      "2027 1545 153\n"
     ]
    }
   ],
   "source": [
    "import  cv2\n",
    "import numpy as np\n",
    "\n",
    "#load the picture\n",
    "img=cv2.imread('A12N13A.jpg')\n",
    "cv2.namedWindow('1',cv2.WINDOW_NORMAL)\n",
    "cv2.namedWindow('2',cv2.WINDOW_NORMAL)\n",
    "#rgb2gray\n",
    "graytemp=cv2.cvtColor(img,cv2.COLOR_BGR2GRAY)\n",
    "gray1 = cv2.GaussianBlur(graytemp,(5,5),1,1)\n",
    "res = cv2.threshold(gray1,15,200,cv2.THRESH_BINARY_INV)\n",
    "#vtitch = np.vstack((gray1, res[1]))\n",
    "cv2.imshow('2',res[1])\n",
    "\n",
    "\n",
    "#霍夫变换圆检测\n",
    "#1 para：gray image\n",
    "#2 para: detect method\n",
    "#3 para: 1(use default value for me)\n",
    "#4 para: the minist distance between two circles\n",
    "#5 para: canny() higher threshold,the higher detect the obvious edge\n",
    "#6 para: the hiher ,detect the more obvious circle\n",
    "#7 8 para: min R,max R\n",
    "circles= cv2.HoughCircles(res[1],cv2.HOUGH_GRADIENT,1,700,param1=200,param2=30,minRadius=120,maxRadius=180)\n",
    "\n",
    "if np.any(circles):\n",
    "    #根据检测到圆的信息，画出每一个圆\n",
    "    for circle in circles[0]:\n",
    "        #圆的基本信息\n",
    "        x=int(circle[0])\n",
    "        y=int(circle[1])\n",
    "        r=int(circle[2])\n",
    "        print(x,y,r)\n",
    "        #在原图用指定颜色标记出圆的位置\n",
    "        img=cv2.circle(img,(x,y),r,(0,0,255),10)\n",
    "        #cv.rectangle(src,(29,195),(46,206),(0,0,255),1);#画方框\n",
    "#显示新图像\n",
    "cv2.imshow('1',img)\n",
    "\n",
    "#按任意键退出\n",
    "cv2.waitKey(0)\n",
    "cv2.destroyAllWindows()"
   ]
  },
  {
   "cell_type": "code",
   "execution_count": null,
   "metadata": {},
   "outputs": [],
   "source": []
  },
  {
   "cell_type": "code",
   "execution_count": null,
   "metadata": {},
   "outputs": [],
   "source": []
  },
  {
   "cell_type": "code",
   "execution_count": null,
   "metadata": {},
   "outputs": [],
   "source": []
  }
 ],
 "metadata": {
  "kernelspec": {
   "display_name": "Python 3",
   "language": "python",
   "name": "python3"
  },
  "language_info": {
   "codemirror_mode": {
    "name": "ipython",
    "version": 3
   },
   "file_extension": ".py",
   "mimetype": "text/x-python",
   "name": "python",
   "nbconvert_exporter": "python",
   "pygments_lexer": "ipython3",
   "version": "3.6.3"
  }
 },
 "nbformat": 4,
 "nbformat_minor": 2
}
